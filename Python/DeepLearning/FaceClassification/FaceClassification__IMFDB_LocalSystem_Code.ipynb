{
 "cells": [
  {
   "cell_type": "markdown",
   "metadata": {
    "colab_type": "text",
    "id": "fkfd_Qb4zWN8"
   },
   "source": [
    "**IMFDB Face Database**\n",
    "\n",
    "Citation - \n",
    "Shankar Setty, Moula Husain, Parisa Beham, Jyothi Gudavalli, Menaka Kandasamy, Radhesyam Vaddi, Vidyagouri Hemadri, J C Karure, Raja Raju, Rajan, Vijay Kumar and C V Jawahar. \"Indian Movie Face Database: A Benchmark for Face Recognition Under Wide Variations\"\n",
    "National Conference on Computer Vision, Pattern Recognition, Image Processing and Graphics (NCVPRIPG), 2013."
   ]
  },
  {
   "cell_type": "code",
   "execution_count": 5,
   "metadata": {
    "colab": {
     "base_uri": "https://localhost:8080/",
     "height": 34
    },
    "colab_type": "code",
    "collapsed": true,
    "executionInfo": {
     "elapsed": 3827,
     "status": "ok",
     "timestamp": 1549430216594,
     "user": {
      "displayName": "Shadab Kalim",
      "photoUrl": "",
      "userId": "17267664643961098577"
     },
     "user_tz": -240
    },
    "id": "0vQ8CCXyzufM",
    "outputId": "881b5533-1166-4389-84cc-37729b653116"
   },
   "outputs": [],
   "source": [
    "import numpy as np\n",
    "import pandas as pd\n",
    "import argparse\n",
    "import errno\n",
    "import scipy.misc\n",
    "import cv2\n",
    "from skimage.feature import hog\n",
    "import os\n",
    "from os import listdir\n",
    "from os.path import isfile, join\n",
    "from os import walk\n",
    "import glob\n",
    "import sys\n",
    "import dlib\n",
    "import pickle\n",
    "import codecs\n",
    "import PIL\n",
    "from skimage import io\n",
    "from skimage import color\n",
    "%config IPCompleter.greedy=True\n",
    "from PIL import Image\n",
    "from skimage.transform import rescale, resize, downscale_local_mean\n",
    "import matplotlib.pyplot as plt\n",
    "import sys\n",
    "import tensorflow as tf\n",
    "import keras\n",
    "from keras.models import Sequential\n",
    "from keras.layers import Conv2D, MaxPooling2D, AveragePooling2D\n",
    "from keras.layers import Dense, Activation, Dropout, Flatten\n",
    "from keras.preprocessing import image\n",
    "from keras.preprocessing.image import ImageDataGenerator"
   ]
  },
  {
   "cell_type": "markdown",
   "metadata": {
    "colab_type": "text",
    "id": "Z4JPEsAh0Lbs"
   },
   "source": [
    "**Data issues and preprocessing: **\n",
    "\n",
    "The following files / folders had format issues (extra columns, missing data etc.), kindly delete these folders (AamairKhan/3Idiots, Aarthi/Bahaddurgandu, AkshayKumar/Barood, AnilKapoor/JamaiRaja, All BabuMohan, Balakrishna/odahuttidavaru, Bhanupriya/Annamayya, Bharathi/Extras, BomanIrani/3Idiots, BomanIrani/JolyLLB, Jagathi/Misc, Jagathi/Twenty-20, Jamuna/Gundammakatha, JayaBhaduri/Anamika, Kajol/KuchKuchhotahai, KatrinaKaif/ZindagiNaMilegiDobara,Madhavan/Cheli, Madhavan/3Idiots, Mallikarjunrao/HelloBrother, Mamootty/Twenty-20, Nagarjuna/HelloBrother, Nagarjuna/Nuvvu_Vasthavani,  NedumudiVenu/Dhwani, Pavithralokesh/extras_Malla, Pavithralokesh/extras_Raakshasudu/, PremaNazir/Dhwani, Ramaprabha/KalisundamRaa, Ramaprabha/Pandaga, Ramaprabha/Preminchukundamraa, Ranimukherji/KuchKuchhotahai, Rimisen/Misc, SalmanKhan/KuchKuchhotahai, Savithri/Gundammakatha, Savithri/Missamma, Shobana/Dhwani, Simran/Nuvvu_Vasthavani, Simran/KalisundamRaa, SoumithraChatterjee/charulatha, Soundarya/JayamManadera, All Srihari, Suryakantham/Gundammakatha, SVR/Mayabaazar, SVR/Gundammakatha,  Tenniskrishna/Extras, TanikellaBharani/JayamManadera, TanikellaBharani/Nuvvu_Vasthavani, TanikellaBharani/NarasimhaNaidu, Thilakan/Dhwani, SalmanKhan/Dabang2, Soundarya/HelloBrother) folders before runnig code.\n",
    "\n",
    "Some of the files that have missing data / format issues are listed below -\n",
    "\n",
    "IMFDB_final_Sample/AnilKapoor/JamaiRaja/AnilKapoor.txt\n",
    "\n",
    "IMFDB_final_Sample/AkshayKumar/Barood/Barood.txt\n",
    "\n",
    "IMFDB_final_Sample/AamairKhan/3Idiots/3Idiots.txt\n",
    "\n",
    "All - IMFDB_final_Sample/BabuMohan\n",
    "\n",
    "IMFDB_final_Sample/Balakrishna/odahuttidavaru\n",
    "\n",
    "IMFDB_final_Sample/BomanIrani/3Idiots/3Idiots.txt\n",
    "\n",
    "IMFDB_final/JayaBhaduri/Anamika/Anamika.txt\n",
    "\n",
    "IMFDB_final/Jagathi/Misc/Misc.txt\n",
    "\n",
    "IMFDB_final/Madhavan/Cheli/Cheli.txt\n",
    "\n",
    "IMFDB_final/Mamootty/Twenty-20/Mammootty.txt\n",
    "\n",
    "IMFDB_final/Rimisen/Misc/Misc.txt\n",
    "\n",
    "IMFDB_final/SalmanKhan/Dabang2/Dabang2.txt\n",
    "\n",
    "IMFDB_final/Soundarya/HelloBrother/Soundarya.txt"
   ]
  },
  {
   "cell_type": "markdown",
   "metadata": {},
   "source": [
    "<b> Read all the text files and images files - </b>"
   ]
  },
  {
   "cell_type": "code",
   "execution_count": 6,
   "metadata": {
    "colab": {
     "base_uri": "https://localhost:8080/",
     "height": 204
    },
    "colab_type": "code",
    "executionInfo": {
     "elapsed": 451755,
     "status": "ok",
     "timestamp": 1549430720761,
     "user": {
      "displayName": "Shadab Kalim",
      "photoUrl": "",
      "userId": "17267664643961098577"
     },
     "user_tz": -240
    },
    "id": "FMNWxi3K2RS0",
    "outputId": "06b935ff-8a0c-4b3a-a25c-7e36b25e0e9c"
   },
   "outputs": [
    {
     "data": {
      "text/html": [
       "<div>\n",
       "<style>\n",
       "    .dataframe thead tr:only-child th {\n",
       "        text-align: right;\n",
       "    }\n",
       "\n",
       "    .dataframe thead th {\n",
       "        text-align: left;\n",
       "    }\n",
       "\n",
       "    .dataframe tbody tr th {\n",
       "        vertical-align: top;\n",
       "    }\n",
       "</style>\n",
       "<table border=\"1\" class=\"dataframe\">\n",
       "  <thead>\n",
       "    <tr style=\"text-align: right;\">\n",
       "      <th></th>\n",
       "      <th>Image_Name</th>\n",
       "      <th>MovieName</th>\n",
       "      <th>Gender</th>\n",
       "      <th>FaceExpression</th>\n",
       "      <th>Pose</th>\n",
       "    </tr>\n",
       "  </thead>\n",
       "  <tbody>\n",
       "    <tr>\n",
       "      <th>0</th>\n",
       "      <td>AamirKhan_1.jpg</td>\n",
       "      <td>Andaz_Apna_Apna</td>\n",
       "      <td>MALE</td>\n",
       "      <td>NEUTRAL</td>\n",
       "      <td>RIGHT</td>\n",
       "    </tr>\n",
       "    <tr>\n",
       "      <th>1</th>\n",
       "      <td>AamirKhan_10.jpg</td>\n",
       "      <td>Andaz_Apna_Apna</td>\n",
       "      <td>MALE</td>\n",
       "      <td>NEUTRAL</td>\n",
       "      <td>FRONTAL</td>\n",
       "    </tr>\n",
       "    <tr>\n",
       "      <th>2</th>\n",
       "      <td>AamirKhan_100.jpg</td>\n",
       "      <td>Andaz_Apna_Apna</td>\n",
       "      <td>MALE</td>\n",
       "      <td>NEUTRAL</td>\n",
       "      <td>RIGHT</td>\n",
       "    </tr>\n",
       "    <tr>\n",
       "      <th>3</th>\n",
       "      <td>AamirKhan_101.jpg</td>\n",
       "      <td>Andaz_Apna_Apna</td>\n",
       "      <td>MALE</td>\n",
       "      <td>NEUTRAL</td>\n",
       "      <td>RIGHT</td>\n",
       "    </tr>\n",
       "    <tr>\n",
       "      <th>4</th>\n",
       "      <td>AamirKhan_102.jpg</td>\n",
       "      <td>Andaz_Apna_Apna</td>\n",
       "      <td>MALE</td>\n",
       "      <td>NEUTRAL</td>\n",
       "      <td>RIGHT</td>\n",
       "    </tr>\n",
       "  </tbody>\n",
       "</table>\n",
       "</div>"
      ],
      "text/plain": [
       "          Image_Name        MovieName Gender FaceExpression     Pose\n",
       "0    AamirKhan_1.jpg  Andaz_Apna_Apna   MALE        NEUTRAL    RIGHT\n",
       "1   AamirKhan_10.jpg  Andaz_Apna_Apna   MALE        NEUTRAL  FRONTAL\n",
       "2  AamirKhan_100.jpg  Andaz_Apna_Apna   MALE        NEUTRAL    RIGHT\n",
       "3  AamirKhan_101.jpg  Andaz_Apna_Apna   MALE        NEUTRAL    RIGHT\n",
       "4  AamirKhan_102.jpg  Andaz_Apna_Apna   MALE        NEUTRAL    RIGHT"
      ]
     },
     "execution_count": 6,
     "metadata": {},
     "output_type": "execute_result"
    }
   ],
   "source": [
    "Facial_Data=[]\n",
    "director=[]\n",
    "filepaths=[]\n",
    "Id=[]\n",
    "directory='IMFDB_final_Sample'\n",
    "n=0\n",
    "for root, dirs, files in os.walk(directory):\n",
    "    for dir in dirs:\n",
    "        director.append('IMFDB_final_Sample/' + dir)\n",
    "\n",
    "for i in range(len(director)):\n",
    "    for root2, dirs2, files2 in os.walk(director[i]):\n",
    "        filedirec=map(lambda x : '/'.join([root2,x]),files2)\n",
    "        filedirec = [f.replace('\\\\', '/') for f in filedirec]\n",
    "        filepaths += filedirec         \n",
    "        Id += [1*n]*len(filedirec)\n",
    "        n=n+1\n",
    "txt_filepaths = list(filter(lambda x:x.endswith((\".txt\")), filepaths))\n",
    "image_filepaths = list(filter(lambda x:x.endswith((\".jpg\",\".jpeg\")), filepaths))\n",
    "\n",
    "#colNames = ('Movie_Name','FileID','Image_Name','Col1',\n",
    "#            'Col2','Col3','Col4','Title','Year_release','ActorName','Gender','FaceExpression',\n",
    "#           'Occlusion', 'Illumination','Age','Pose', 'Makeup')\n",
    "list_of_dfs=[]\n",
    "for filepath in txt_filepaths:\n",
    "  try:\n",
    "    df=pd.read_csv(filepath, sep='\\t',header=None)\n",
    "    if((len(df.columns)==18) or (len(df.columns)==17)):\n",
    "        df.drop(df.columns[0], axis=1)\n",
    "        df = df.iloc[:,[2,7,10,11,15]]\n",
    "        list_of_dfs.append(df)\n",
    "        #print(filepath)\n",
    "  except:\n",
    "        print(filepath)\n",
    "all_data = pd.concat(list_of_dfs, ignore_index=True)\n",
    "all_data.columns = ('Image_Name','MovieName','Gender','FaceExpression','Pose')\n",
    "all_data.head()"
   ]
  },
  {
   "cell_type": "code",
   "execution_count": 7,
   "metadata": {},
   "outputs": [
    {
     "data": {
      "text/html": [
       "<div>\n",
       "<style>\n",
       "    .dataframe thead tr:only-child th {\n",
       "        text-align: right;\n",
       "    }\n",
       "\n",
       "    .dataframe thead th {\n",
       "        text-align: left;\n",
       "    }\n",
       "\n",
       "    .dataframe tbody tr th {\n",
       "        vertical-align: top;\n",
       "    }\n",
       "</style>\n",
       "<table border=\"1\" class=\"dataframe\">\n",
       "  <thead>\n",
       "    <tr style=\"text-align: right;\">\n",
       "      <th></th>\n",
       "      <th>Image_Name</th>\n",
       "      <th>MovieName</th>\n",
       "      <th>Gender</th>\n",
       "      <th>FaceExpression</th>\n",
       "      <th>Pose</th>\n",
       "    </tr>\n",
       "  </thead>\n",
       "  <tbody>\n",
       "    <tr>\n",
       "      <th>0</th>\n",
       "      <td>AamirKhan_1.jpg</td>\n",
       "      <td>AndazApnaApna</td>\n",
       "      <td>MALE</td>\n",
       "      <td>NEUTRAL</td>\n",
       "      <td>RIGHT</td>\n",
       "    </tr>\n",
       "    <tr>\n",
       "      <th>1</th>\n",
       "      <td>AamirKhan_10.jpg</td>\n",
       "      <td>AndazApnaApna</td>\n",
       "      <td>MALE</td>\n",
       "      <td>NEUTRAL</td>\n",
       "      <td>FRONTAL</td>\n",
       "    </tr>\n",
       "    <tr>\n",
       "      <th>2</th>\n",
       "      <td>AamirKhan_100.jpg</td>\n",
       "      <td>AndazApnaApna</td>\n",
       "      <td>MALE</td>\n",
       "      <td>NEUTRAL</td>\n",
       "      <td>RIGHT</td>\n",
       "    </tr>\n",
       "    <tr>\n",
       "      <th>3</th>\n",
       "      <td>AamirKhan_101.jpg</td>\n",
       "      <td>AndazApnaApna</td>\n",
       "      <td>MALE</td>\n",
       "      <td>NEUTRAL</td>\n",
       "      <td>RIGHT</td>\n",
       "    </tr>\n",
       "    <tr>\n",
       "      <th>4</th>\n",
       "      <td>AamirKhan_102.jpg</td>\n",
       "      <td>AndazApnaApna</td>\n",
       "      <td>MALE</td>\n",
       "      <td>NEUTRAL</td>\n",
       "      <td>RIGHT</td>\n",
       "    </tr>\n",
       "  </tbody>\n",
       "</table>\n",
       "</div>"
      ],
      "text/plain": [
       "          Image_Name      MovieName Gender FaceExpression     Pose\n",
       "0    AamirKhan_1.jpg  AndazApnaApna   MALE        NEUTRAL    RIGHT\n",
       "1   AamirKhan_10.jpg  AndazApnaApna   MALE        NEUTRAL  FRONTAL\n",
       "2  AamirKhan_100.jpg  AndazApnaApna   MALE        NEUTRAL    RIGHT\n",
       "3  AamirKhan_101.jpg  AndazApnaApna   MALE        NEUTRAL    RIGHT\n",
       "4  AamirKhan_102.jpg  AndazApnaApna   MALE        NEUTRAL    RIGHT"
      ]
     },
     "execution_count": 7,
     "metadata": {},
     "output_type": "execute_result"
    }
   ],
   "source": [
    "#all_data['MovieName'] = all_data['MovieName'].map(lambda x: x.lstrip('_'))\n",
    "all_data.MovieName = all_data.MovieName.apply(lambda x: x.replace(\"_\",\"\"))\n",
    "all_data.to_csv('all_data.txt', header=None, index=None, sep=',', mode='a')\n",
    "all_data.head()"
   ]
  },
  {
   "cell_type": "markdown",
   "metadata": {},
   "source": [
    "Export image data and file paths data to files which will be uploaded to Google Drive - "
   ]
  },
  {
   "cell_type": "code",
   "execution_count": 8,
   "metadata": {
    "collapsed": true
   },
   "outputs": [],
   "source": [
    "Face_Data=[]\n",
    "Face_FilePaths=[]\n",
    "#detector = dlib.get_frontal_face_detector()\n",
    "for pic in image_filepaths:\n",
    "    img = image.load_img(pic, color_mode = \"grayscale\", target_size=(100, 100))\n",
    "    try:\n",
    "        x = image.img_to_array(img)\n",
    "        x = np.expand_dims(x, axis = 0)\n",
    "        x /= 255\n",
    "        Face_Data.append(x)\n",
    "        Face_FilePaths.append(pic)\n",
    "    except Exception as e:\n",
    "        print(pic)\n",
    "        print(str(e))\n",
    "with open('face_site.data', 'wb') as filehandle:  \n",
    "    # store the data as binary data stream\n",
    "    pickle.dump(Face_Data, filehandle)\n",
    "\n",
    "FilePaths_array=np.array(Face_FilePaths, 'str')\n",
    "np.savetxt('FilePaths.txt', FilePaths_array, delimiter=\" \", fmt=\"%s\") "
   ]
  },
  {
   "cell_type": "markdown",
   "metadata": {},
   "source": [
    "Plot some images to see resolutions - "
   ]
  },
  {
   "cell_type": "code",
   "execution_count": 9,
   "metadata": {},
   "outputs": [
    {
     "data": {
      "image/png": "[encoded data removed]",
      "text/plain": [
       "<matplotlib.figure.Figure at 0x21a44e0a080>"
      ]
     },
     "metadata": {},
     "output_type": "display_data"
    },
    {
     "data": {
      "image/png": "[encoded data removed]",
      "text/plain": [
       "<matplotlib.figure.Figure at 0x21a6c246c88>"
      ]
     },
     "metadata": {},
     "output_type": "display_data"
    },
    {
     "data": {
      "image/png": "[encoded data removed]",
      "text/plain": [
       "<matplotlib.figure.Figure at 0x21a3f888a90>"
      ]
     },
     "metadata": {},
     "output_type": "display_data"
    }
   ],
   "source": [
    "for i in range(3):\n",
    "    x = np.array(Face_Data[i], 'float32')\n",
    "    x = x.reshape([100, 100]);\n",
    "\n",
    "    plt.gray()\n",
    "    plt.imshow(x)\n",
    "    plt.show() "
   ]
  },
  {
   "cell_type": "code",
   "execution_count": null,
   "metadata": {
    "collapsed": true
   },
   "outputs": [],
   "source": []
  }
 ],
 "metadata": {
  "accelerator": "GPU",
  "colab": {
   "collapsed_sections": [],
   "name": "Practicum3_IMFDB.ipynb",
   "provenance": [],
   "version": "0.3.2"
  },
  "kernelspec": {
   "display_name": "Python 3",
   "language": "python",
   "name": "python3"
  },
  "language_info": {
   "codemirror_mode": {
    "name": "ipython",
    "version": 3
   },
   "file_extension": ".py",
   "mimetype": "text/x-python",
   "name": "python",
   "nbconvert_exporter": "python",
   "pygments_lexer": "ipython3",
   "version": "3.6.3"
  }
 },
 "nbformat": 4,
 "nbformat_minor": 1
}
